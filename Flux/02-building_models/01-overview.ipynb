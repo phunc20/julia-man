{
 "cells": [
  {
   "cell_type": "code",
   "execution_count": 1,
   "id": "f0c7be2f",
   "metadata": {},
   "outputs": [],
   "source": [
    "using Flux"
   ]
  },
  {
   "cell_type": "markdown",
   "id": "77a39ac5",
   "metadata": {},
   "source": [
    "## Approximate A Function by A Neural Network\n",
    "Here is the simple function we are trying to approximate."
   ]
  },
  {
   "cell_type": "code",
   "execution_count": 2,
   "id": "eb2250c4",
   "metadata": {},
   "outputs": [
    {
     "data": {
      "text/plain": [
       "actual (generic function with 1 method)"
      ]
     },
     "execution_count": 2,
     "metadata": {},
     "output_type": "execute_result"
    }
   ],
   "source": [
    "actual(x) = 4x + 2"
   ]
  },
  {
   "cell_type": "code",
   "execution_count": 3,
   "id": "a68ae537",
   "metadata": {},
   "outputs": [
    {
     "data": {
      "text/plain": [
       "([0 1 … 4 5], [6 7 … 9 10])"
      ]
     },
     "execution_count": 3,
     "metadata": {},
     "output_type": "execute_result"
    }
   ],
   "source": [
    "x_train, x_test = hcat(0:5...), hcat(6:10...)"
   ]
  },
  {
   "cell_type": "markdown",
   "id": "4559330b",
   "metadata": {},
   "source": [
    "Note how Flux puts the input data differently from Aurelien Geron/`keras`/`tensorflow`:\n",
    "\n",
    "- Flux: `(n_features, n_instances)`\n",
    "- `keras`: `(n_instances, n_features)`"
   ]
  },
  {
   "cell_type": "code",
   "execution_count": 4,
   "id": "5f96c5a4",
   "metadata": {},
   "outputs": [
    {
     "data": {
      "text/plain": [
       "([2 6 … 18 22], [26 30 … 38 42])"
      ]
     },
     "execution_count": 4,
     "metadata": {},
     "output_type": "execute_result"
    }
   ],
   "source": [
    "y_train, y_test = actual.(x_train), actual.(x_test)"
   ]
  },
  {
   "cell_type": "code",
   "execution_count": 5,
   "id": "a05dcfbb",
   "metadata": {},
   "outputs": [
    {
     "data": {
      "text/plain": [
       "Dense(1, 1)         \u001b[90m# 2 parameters\u001b[39m"
      ]
     },
     "execution_count": 5,
     "metadata": {},
     "output_type": "execute_result"
    }
   ],
   "source": [
    "model = Dense(1,1)"
   ]
  },
  {
   "cell_type": "code",
   "execution_count": 6,
   "id": "a4de2404",
   "metadata": {},
   "outputs": [
    {
     "data": {
      "text/plain": [
       "1×1 Matrix{Float32}:\n",
       " -0.8380664"
      ]
     },
     "execution_count": 6,
     "metadata": {},
     "output_type": "execute_result"
    }
   ],
   "source": [
    "model.weight"
   ]
  },
  {
   "cell_type": "code",
   "execution_count": 7,
   "id": "fabb6e6e",
   "metadata": {},
   "outputs": [
    {
     "data": {
      "text/plain": [
       "1-element Vector{Float32}:\n",
       " 0.0"
      ]
     },
     "execution_count": 7,
     "metadata": {},
     "output_type": "execute_result"
    }
   ],
   "source": [
    "model.bias"
   ]
  },
  {
   "cell_type": "code",
   "execution_count": 8,
   "id": "88a52071",
   "metadata": {},
   "outputs": [
    {
     "data": {
      "text/plain": [
       "1×6 Matrix{Float32}:\n",
       " 0.0  -0.838066  -1.67613  -2.5142  -3.35227  -4.19033"
      ]
     },
     "execution_count": 8,
     "metadata": {},
     "output_type": "execute_result"
    }
   ],
   "source": [
    "model(x_train)"
   ]
  },
  {
   "cell_type": "code",
   "execution_count": 9,
   "id": "aefeb73f",
   "metadata": {},
   "outputs": [
    {
     "data": {
      "text/plain": [
       "1×6 Matrix{Float32}:\n",
       " 0.0  -0.838066  -1.67613  -2.5142  -3.35227  -4.19033"
      ]
     },
     "execution_count": 9,
     "metadata": {},
     "output_type": "execute_result"
    }
   ],
   "source": [
    "model.weight * x_train .+ model.bias"
   ]
  },
  {
   "cell_type": "markdown",
   "id": "5cacdf8f",
   "metadata": {},
   "source": [
    "Let's create the inputs in Aurelien Geron's way, i.e. of shape `(n_instances, n_features)`"
   ]
  },
  {
   "cell_type": "code",
   "execution_count": 10,
   "id": "da9f2b12",
   "metadata": {},
   "outputs": [
    {
     "data": {
      "text/plain": [
       "6×1 Matrix{Int64}:\n",
       " 0\n",
       " 1\n",
       " 2\n",
       " 3\n",
       " 4\n",
       " 5"
      ]
     },
     "execution_count": 10,
     "metadata": {},
     "output_type": "execute_result"
    }
   ],
   "source": [
    "X_train = hcat(0:5)"
   ]
  },
  {
   "cell_type": "code",
   "execution_count": 11,
   "id": "103f3c3e",
   "metadata": {},
   "outputs": [
    {
     "ename": "LoadError",
     "evalue": "DimensionMismatch(\"matrix A has dimensions (1,1), matrix B has dimensions (6,1)\")",
     "output_type": "error",
     "traceback": [
      "DimensionMismatch(\"matrix A has dimensions (1,1), matrix B has dimensions (6,1)\")",
      "",
      "Stacktrace:",
      " [1] _generic_matmatmul!(C::Matrix{Float32}, tA::Char, tB::Char, A::Matrix{Float32}, B::Matrix{Int64}, _add::LinearAlgebra.MulAddMul{true, true, Bool, Bool})",
      "   @ LinearAlgebra /buildworker/worker/package_linux64/build/usr/share/julia/stdlib/v1.6/LinearAlgebra/src/matmul.jl:814",
      " [2] generic_matmatmul!(C::Matrix{Float32}, tA::Char, tB::Char, A::Matrix{Float32}, B::Matrix{Int64}, _add::LinearAlgebra.MulAddMul{true, true, Bool, Bool})",
      "   @ LinearAlgebra /buildworker/worker/package_linux64/build/usr/share/julia/stdlib/v1.6/LinearAlgebra/src/matmul.jl:802",
      " [3] mul!",
      "   @ /buildworker/worker/package_linux64/build/usr/share/julia/stdlib/v1.6/LinearAlgebra/src/matmul.jl:302 [inlined]",
      " [4] mul!",
      "   @ /buildworker/worker/package_linux64/build/usr/share/julia/stdlib/v1.6/LinearAlgebra/src/matmul.jl:275 [inlined]",
      " [5] *",
      "   @ /buildworker/worker/package_linux64/build/usr/share/julia/stdlib/v1.6/LinearAlgebra/src/matmul.jl:153 [inlined]",
      " [6] (::Dense{typeof(identity), Matrix{Float32}, Vector{Float32}})(x::Matrix{Int64})",
      "   @ Flux ~/.julia/packages/Flux/BPPNj/src/layers/basic.jl:158",
      " [7] top-level scope",
      "   @ In[11]:1",
      " [8] eval",
      "   @ ./boot.jl:360 [inlined]",
      " [9] include_string(mapexpr::typeof(REPL.softscope), mod::Module, code::String, filename::String)",
      "   @ Base ./loading.jl:1116"
     ]
    }
   ],
   "source": [
    "model(X_train)"
   ]
  },
  {
   "cell_type": "markdown",
   "id": "3bea5a14",
   "metadata": {},
   "source": [
    "It seems that we can't. We have to follow Flux's rule to play the game, unless we do this manually like below."
   ]
  },
  {
   "cell_type": "code",
   "execution_count": 12,
   "id": "2058c69d",
   "metadata": {},
   "outputs": [
    {
     "data": {
      "text/plain": [
       "6×1 Matrix{Float32}:\n",
       "  0.0\n",
       " -0.8380664\n",
       " -1.6761328\n",
       " -2.5141993\n",
       " -3.3522656\n",
       " -4.190332"
      ]
     },
     "execution_count": 12,
     "metadata": {},
     "output_type": "execute_result"
    }
   ],
   "source": [
    "X_train * model.weight .+ model.bias"
   ]
  },
  {
   "cell_type": "markdown",
   "id": "9d75534e",
   "metadata": {},
   "source": [
    " But it would be too tedious if we have to do this every time. So, follow Flux's convention when in Flux's land."
   ]
  },
  {
   "cell_type": "code",
   "execution_count": 13,
   "id": "90f9a397",
   "metadata": {},
   "outputs": [
    {
     "data": {
      "text/plain": [
       "loss (generic function with 1 method)"
      ]
     },
     "execution_count": 13,
     "metadata": {},
     "output_type": "execute_result"
    }
   ],
   "source": [
    "loss(x, y) = Flux.Losses.mse(model(x), y)"
   ]
  },
  {
   "cell_type": "code",
   "execution_count": 14,
   "id": "91740049",
   "metadata": {},
   "outputs": [
    {
     "data": {
      "text/plain": [
       "266.94382f0"
      ]
     },
     "execution_count": 14,
     "metadata": {},
     "output_type": "execute_result"
    }
   ],
   "source": [
    "loss(x_train, y_train)"
   ]
  },
  {
   "cell_type": "markdown",
   "id": "5a50909f",
   "metadata": {},
   "source": [
    "## Optimizer, (Trainable) Parameters and `train!`"
   ]
  },
  {
   "cell_type": "code",
   "execution_count": 15,
   "id": "dcb32483",
   "metadata": {},
   "outputs": [
    {
     "data": {
      "text/plain": [
       "Params([Float32[-0.8380664], Float32[0.0]])"
      ]
     },
     "execution_count": 15,
     "metadata": {},
     "output_type": "execute_result"
    }
   ],
   "source": [
    "parameters = params(model)"
   ]
  },
  {
   "cell_type": "code",
   "execution_count": 16,
   "id": "b604274b",
   "metadata": {},
   "outputs": [
    {
     "data": {
      "text/plain": [
       "(true, true)"
      ]
     },
     "execution_count": 16,
     "metadata": {},
     "output_type": "execute_result"
    }
   ],
   "source": [
    "model.weight in parameters, model.bias in parameters"
   ]
  },
  {
   "cell_type": "code",
   "execution_count": 17,
   "id": "9bb783c6",
   "metadata": {},
   "outputs": [
    {
     "data": {
      "text/plain": [
       "false"
      ]
     },
     "execution_count": 17,
     "metadata": {},
     "output_type": "execute_result"
    }
   ],
   "source": [
    "0.0 in parameters"
   ]
  },
  {
   "cell_type": "code",
   "execution_count": 18,
   "id": "4d0c2b3b",
   "metadata": {},
   "outputs": [
    {
     "data": {
      "text/plain": [
       "true"
      ]
     },
     "execution_count": 18,
     "metadata": {},
     "output_type": "execute_result"
    }
   ],
   "source": [
    "[0.0] in parameters"
   ]
  },
  {
   "cell_type": "code",
   "execution_count": 19,
   "id": "d198f7ba",
   "metadata": {},
   "outputs": [
    {
     "data": {
      "text/plain": [
       "Descent(0.1)"
      ]
     },
     "execution_count": 19,
     "metadata": {},
     "output_type": "execute_result"
    }
   ],
   "source": [
    "optimizer = Descent()"
   ]
  },
  {
   "cell_type": "code",
   "execution_count": 20,
   "id": "fd626a1b",
   "metadata": {},
   "outputs": [
    {
     "data": {
      "text/plain": [
       "1-element Vector{Tuple{Matrix{Int64}, Matrix{Int64}}}:\n",
       " ([0 1 … 4 5], [2 6 … 18 22])"
      ]
     },
     "execution_count": 20,
     "metadata": {},
     "output_type": "execute_result"
    }
   ],
   "source": [
    "data = [(x_train, y_train)]"
   ]
  },
  {
   "cell_type": "code",
   "execution_count": 21,
   "id": "eb026b30",
   "metadata": {},
   "outputs": [
    {
     "data": {
      "text/plain": [
       "(Params([Float32[-0.8380664], Float32[0.0]]), 266.94382f0)"
      ]
     },
     "execution_count": 21,
     "metadata": {},
     "output_type": "execute_result"
    }
   ],
   "source": [
    "# Before one train!\n",
    "parameters, loss(x_train, y_train)"
   ]
  },
  {
   "cell_type": "code",
   "execution_count": 22,
   "id": "ff16cb5a",
   "metadata": {},
   "outputs": [
    {
     "ename": "LoadError",
     "evalue": "UndefVarError: train! not defined",
     "output_type": "error",
     "traceback": [
      "UndefVarError: train! not defined",
      "",
      "Stacktrace:",
      " [1] top-level scope",
      "   @ In[22]:1",
      " [2] eval",
      "   @ ./boot.jl:360 [inlined]",
      " [3] include_string(mapexpr::typeof(REPL.softscope), mod::Module, code::String, filename::String)",
      "   @ Base ./loading.jl:1116"
     ]
    }
   ],
   "source": [
    "train!(loss, parameters, data, optimizer)"
   ]
  },
  {
   "cell_type": "markdown",
   "id": "20a6177a",
   "metadata": {},
   "source": [
    "**(?)** Why other functionalities from Flux don't need, but only `train!` needs this?\n",
    "```julia\n",
    "using Flux: train!\n",
    "```"
   ]
  },
  {
   "cell_type": "code",
   "execution_count": 23,
   "id": "90115f33",
   "metadata": {},
   "outputs": [],
   "source": [
    "using Flux: train!\n",
    "train!(loss, parameters, data, optimizer)"
   ]
  },
  {
   "cell_type": "code",
   "execution_count": 24,
   "id": "129d1640",
   "metadata": {},
   "outputs": [
    {
     "data": {
      "text/plain": [
       "(Params([Float32[9.031723], Float32[2.8190334]]), 253.3604f0)"
      ]
     },
     "execution_count": 24,
     "metadata": {},
     "output_type": "execute_result"
    }
   ],
   "source": [
    "# After one train!\n",
    "parameters, loss(x_train, y_train)"
   ]
  },
  {
   "cell_type": "markdown",
   "id": "b7520c54",
   "metadata": {},
   "source": [
    "One `train!` is basically one epoch through the training set `data`.\n",
    "\n",
    "Let's run another 200 epochs."
   ]
  },
  {
   "cell_type": "code",
   "execution_count": 25,
   "id": "67d1d046",
   "metadata": {},
   "outputs": [],
   "source": [
    "for i in 1:200\n",
    "  train!(loss, parameters, data, optimizer)\n",
    "end"
   ]
  },
  {
   "cell_type": "code",
   "execution_count": 26,
   "id": "276aad55",
   "metadata": {},
   "outputs": [
    {
     "data": {
      "text/plain": [
       "(Params([Float32[4.02637], Float32[2.0074282]]), 0.0074088597f0)"
      ]
     },
     "execution_count": 26,
     "metadata": {},
     "output_type": "execute_result"
    }
   ],
   "source": [
    "# After another 200 epochs\n",
    "parameters, loss(x_train, y_train)"
   ]
  },
  {
   "cell_type": "markdown",
   "id": "de1474e0",
   "metadata": {},
   "source": [
    "The parameters have come pretty close to `actual`"
   ]
  },
  {
   "cell_type": "code",
   "execution_count": 27,
   "id": "389d8a76",
   "metadata": {},
   "outputs": [
    {
     "data": {
      "text/plain": [
       "1×5 Matrix{Float32}:\n",
       " 26.1656  30.192  34.2184  38.2448  42.2711"
      ]
     },
     "execution_count": 27,
     "metadata": {},
     "output_type": "execute_result"
    }
   ],
   "source": [
    "model(x_test)"
   ]
  },
  {
   "cell_type": "code",
   "execution_count": 28,
   "id": "25dc5365",
   "metadata": {},
   "outputs": [
    {
     "data": {
      "text/plain": [
       "1×5 Matrix{Int64}:\n",
       " 26  30  34  38  42"
      ]
     },
     "execution_count": 28,
     "metadata": {},
     "output_type": "execute_result"
    }
   ],
   "source": [
    "y_test"
   ]
  }
 ],
 "metadata": {
  "kernelspec": {
   "display_name": "Julia 1.6.2",
   "language": "julia",
   "name": "julia-1.6"
  },
  "language_info": {
   "file_extension": ".jl",
   "mimetype": "application/julia",
   "name": "julia",
   "version": "1.6.2"
  }
 },
 "nbformat": 4,
 "nbformat_minor": 5
}
